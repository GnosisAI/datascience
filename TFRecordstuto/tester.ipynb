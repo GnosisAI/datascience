{
 "cells": [
  {
   "cell_type": "code",
   "execution_count": 27,
   "metadata": {},
   "outputs": [],
   "source": [
    "import tensorflow.keras as keras\n",
    "from tensorflow.keras.models import load_model\n",
    "import tensorflow as tf\n",
    "import numpy as np\n",
    "import matplotlib.pyplot as plt\n",
    "import os\n",
    "from tqdm import tqdm\n",
    "from random import shuffle\n",
    "from operator import itemgetter\n",
    "from PIL import Image\n",
    "%matplotlib inline"
   ]
  },
  {
   "cell_type": "code",
   "execution_count": 6,
   "metadata": {},
   "outputs": [],
   "source": [
    "test_path = './datasets/chest_xray/test/'\n"
   ]
  },
  {
   "cell_type": "code",
   "execution_count": null,
   "metadata": {},
   "outputs": [],
   "source": [
    "model = load_model('./pneumounia.h5')"
   ]
  },
  {
   "cell_type": "code",
   "execution_count": 18,
   "metadata": {},
   "outputs": [],
   "source": [
    "def get_files(path):\n",
    "\n",
    "    print('*'*20 + ' Reading Images')\n",
    "    dirs = [c for c in os.listdir(path) if not c.startswith('.')]\n",
    "    images = []\n",
    "    labels = []\n",
    "    for i, d in tqdm(enumerate(dirs), desc= 'folders'):\n",
    "        dir_path = path + d\n",
    "        for f in tqdm(os.listdir(dir_path), desc='reading images in folder'):\n",
    "            if(not f.startswith('.')):\n",
    "                file_path = dir_path + '/' + f\n",
    "                images.append(file_path)\n",
    "                labels.append(i)\n",
    "    data = list(zip(images, labels))\n",
    "    shuffle(data)\n",
    "    img_getter = itemgetter(0)\n",
    "    label_getter = itemgetter(1)\n",
    "        \n",
    "    images = list(map(img_getter,data))\n",
    "    labels = list(map(label_getter,data))\n",
    "    return images, labels"
   ]
  },
  {
   "cell_type": "code",
   "execution_count": 19,
   "metadata": {},
   "outputs": [
    {
     "name": "stderr",
     "output_type": "stream",
     "text": [
      "folders: 0it [00:00, ?it/s]\n",
      "reading images in folder:   0%|          | 0/234 [00:00<?, ?it/s]\u001b[A\n",
      "reading images in folder: 100%|██████████| 234/234 [00:00<00:00, 214387.75it/s]\u001b[A\n",
      "reading images in folder:   0%|          | 0/390 [00:00<?, ?it/s]\u001b[A\n",
      "folders: 2it [00:00, 141.29it/s]"
     ]
    },
    {
     "name": "stdout",
     "output_type": "stream",
     "text": [
      "******************** Reading Images\n"
     ]
    },
    {
     "name": "stderr",
     "output_type": "stream",
     "text": [
      "\n"
     ]
    }
   ],
   "source": [
    "images, labels = get_files(test_path)"
   ]
  },
  {
   "cell_type": "code",
   "execution_count": 22,
   "metadata": {},
   "outputs": [],
   "source": []
  },
  {
   "cell_type": "code",
   "execution_count": 25,
   "metadata": {},
   "outputs": [],
   "source": [
    "def read_image(img_path):\n",
    "\n",
    "    image_data = Image.open(img_path).convert('L')\n",
    "\n",
    "    image_data_resized = image_data.resize((300,300))\n",
    "    image_arr = np.array(image_data_resized)\n",
    "    image_arr = image_arr /255\n",
    "    image_arr = image_arr.reshape((300,300,1))\n",
    "        \n",
    "\n",
    "    return image_arr"
   ]
  },
  {
   "cell_type": "code",
   "execution_count": 29,
   "metadata": {},
   "outputs": [],
   "source": [
    "data = list(map(read_image,images[:100]))"
   ]
  },
  {
   "cell_type": "code",
   "execution_count": 31,
   "metadata": {},
   "outputs": [],
   "source": [
    "data = np.array(data)"
   ]
  },
  {
   "cell_type": "code",
   "execution_count": 32,
   "metadata": {},
   "outputs": [
    {
     "data": {
      "text/plain": [
       "(100, 300, 300, 1)"
      ]
     },
     "execution_count": 32,
     "metadata": {},
     "output_type": "execute_result"
    }
   ],
   "source": [
    "data.shape"
   ]
  },
  {
   "cell_type": "code",
   "execution_count": 34,
   "metadata": {},
   "outputs": [],
   "source": [
    "y_pred = model.predict_classes(data)"
   ]
  },
  {
   "cell_type": "code",
   "execution_count": 38,
   "metadata": {},
   "outputs": [],
   "source": [
    "from sklearn.metrics import confusion_matrix, accuracy_score"
   ]
  },
  {
   "cell_type": "code",
   "execution_count": 36,
   "metadata": {},
   "outputs": [],
   "source": [
    "matrix = confusion_matrix(labels[:100],y_pred)"
   ]
  },
  {
   "cell_type": "code",
   "execution_count": 37,
   "metadata": {},
   "outputs": [
    {
     "data": {
      "text/plain": [
       "array([[31,  7],\n",
       "       [ 2, 60]])"
      ]
     },
     "execution_count": 37,
     "metadata": {},
     "output_type": "execute_result"
    }
   ],
   "source": [
    "matrix.view()"
   ]
  },
  {
   "cell_type": "code",
   "execution_count": 39,
   "metadata": {},
   "outputs": [],
   "source": [
    "score = accuracy_score(labels[:100], y_pred)"
   ]
  },
  {
   "cell_type": "code",
   "execution_count": 40,
   "metadata": {},
   "outputs": [
    {
     "data": {
      "text/plain": [
       "0.91"
      ]
     },
     "execution_count": 40,
     "metadata": {},
     "output_type": "execute_result"
    }
   ],
   "source": [
    "score.view()"
   ]
  },
  {
   "cell_type": "code",
   "execution_count": null,
   "metadata": {},
   "outputs": [],
   "source": []
  }
 ],
 "metadata": {
  "kernelspec": {
   "display_name": "Python 3",
   "language": "python",
   "name": "python3"
  },
  "language_info": {
   "codemirror_mode": {
    "name": "ipython",
    "version": 3
   },
   "file_extension": ".py",
   "mimetype": "text/x-python",
   "name": "python",
   "nbconvert_exporter": "python",
   "pygments_lexer": "ipython3",
   "version": "3.5.3"
  }
 },
 "nbformat": 4,
 "nbformat_minor": 2
}
